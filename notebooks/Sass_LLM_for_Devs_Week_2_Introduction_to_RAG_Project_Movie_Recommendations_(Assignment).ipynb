{
  "cells": [
    {
      "cell_type": "markdown",
      "metadata": {
        "id": "1Eg9jyCOKOnt"
      },
      "source": [
        "\n",
        "# 🎥 Build a RAG question answering system for movie recommendations\n",
        "\n",
        "Our goal for this project is to build a movie question answering system using RAG.\n",
        "\n",
        "We will use a dataset from the Internet Movie Database (IMDb).\n",
        "\n",
        "Users will be interact with the dataset by asking questions about movies, and the chatbot will retrieve relevant information from our dataset to answer those questions.\n"
      ]
    },
    {
      "cell_type": "markdown",
      "metadata": {
        "id": "_d9vknpRQbF0"
      },
      "source": [
        "# 💻 Install `datasets` library to access IMDb dataset from Hugging Face Hub\n",
        "\n",
        "[Hugging Face Hub](https://huggingface.co/docs/hub/en/index) is to machine learning what GitHub is to software development—a centralized platform that promotes open sharing, testing, and collaboration.\n",
        "\n",
        "The models and datasets on the Hub are hosted as Git repositories, allowing for versioning and reproducibility.\n",
        "\n",
        "The Hub provides a simple way for developers to discover, download, and use these pre-trained models and datasets through the `huggingface-hub` Python library, which you will be installing below.\n",
        "\n",
        "In addition to models, the Hub also hosts a variety of machine learning applications and demos created by the community, called \"Spaces\".\n",
        "\n",
        "[Here is documentation](https://huggingface.co/docs/datasets/en/index) on `datasets` if you want to read more about its capabilities."
      ]
    },
    {
      "cell_type": "markdown",
      "metadata": {},
      "source": []
    },
    {
      "cell_type": "code",
      "execution_count": 1,
      "metadata": {
        "colab": {
          "base_uri": "https://localhost:8080/"
        },
        "id": "93Yk0a2nTm8F",
        "outputId": "d2a3214e-2b11-49c6-eb95-35daca677d46"
      },
      "outputs": [
        {
          "name": "stdout",
          "output_type": "stream",
          "text": [
            "Note: you may need to restart the kernel to use updated packages.\n"
          ]
        }
      ],
      "source": [
        "%pip install -q -U datasets"
      ]
    },
    {
      "cell_type": "markdown",
      "metadata": {
        "id": "1ewutAbeVkOV"
      },
      "source": [
        "# 💻 Generate a Hugging Face token\n",
        "\n",
        "Generate a new token on Hugging Face with \"Write\" permissions using the instructions below. We will need it to download datasets via `huggingface-hub`.\n",
        "\n",
        "[How to generate a new Hugging Face token](https://huggingface.co/docs/hub/en/security-tokens)\n"
      ]
    },
    {
      "cell_type": "markdown",
      "metadata": {
        "id": "Ota769nCSOMe"
      },
      "source": [
        "# 💻 Add your Hugging Face token to your Google Colab Secrets\n",
        "\n",
        "Use the sidebar on the left to add your Hugging Face token `HF_TOKEN` to your Google Colab secrets.\n",
        "\n",
        "NOTE: The secrets are persisted for all future Colab sessions.\n",
        "\n",
        "![Screenshot](https://drive.google.com/uc?export=view&id=10U0nesFSgXdCR4ywPk18mHERG47T_rRt)"
      ]
    },
    {
      "cell_type": "markdown",
      "metadata": {
        "id": "6gIDP9BTX6sr"
      },
      "source": [
        "# 💻 Download an IMDB datset from Hugging Face Hub"
      ]
    },
    {
      "cell_type": "markdown",
      "metadata": {
        "id": "AUux5SARkjGC"
      },
      "source": [
        "Use the `datasets` documentation to load the [ShubhamChoksi/IMDB_Movies](https://huggingface.co/datasets/ShubhamChoksi/IMDB_Movies) dataset.\n",
        "\n",
        "[Datasets documentation](https://pypi.org/project/datasets/)"
      ]
    },
    {
      "cell_type": "code",
      "execution_count": 27,
      "metadata": {
        "colab": {
          "base_uri": "https://localhost:8080/",
          "height": 113,
          "referenced_widgets": [
            "82a402c1f489475594ac82924433c3ae",
            "d8bd4a85ebb04b40b80a17cc212029c1",
            "2f2aa4d4264e4f14bb8462b02b2b005e",
            "86fdf82a72864cc492c63e24fd28dc40",
            "28532ad9ba2a433abe212bc022735afe",
            "1bc39bc0ffdc4524ab03abb151885ee9",
            "8ffdad36db5c4a929bae3fa81fe59339",
            "1c1df02e3b044c7f86d99e369c64d215",
            "edc451b300b844e3849c1fed1284d0d2",
            "6668061d793944aeb7b46f582b9b087a",
            "373049533b8e4cba804f0c84c263e2d9",
            "31f0f2be63864278afa19df8a2a1f729",
            "7873862253ca4905a4fc965aa7f02df5",
            "48945a058ab4418388d41595f5de622e",
            "392319a87af04eb89044c95692cf9253",
            "21bd54e7bae4416ea06a5a531177a7d3",
            "b954250cf5cb4c7497c4a94a2dcb3bdf",
            "9c3db47746b7478ab0701fcbc53c590f",
            "b94b990d00784aed9c43efffa3fa0bb6",
            "d401d8fdac2d48678004fef297b43fca",
            "07a454021e77401a812103eabe94a11f",
            "2ddf711f017c46a9ac00983a43e0af0a",
            "e6c5ac23ac26449c827161abc06bc007",
            "5ddce24ef71e4fc196ba4f296c7228f8",
            "2fbb25fe40954b2abad47e45a9aadea2",
            "0ffca480327b434b8b2724168de27bf4",
            "166fe1537e364e74bc640450d0dfe2fc",
            "eaad473580814053929fc95402b99587",
            "92eabe663add404ab9d2228086aac7c4",
            "a77d4e652aa342d8b75bacf100d65f81",
            "973f9ee8411147b98f5808629aa0767f",
            "bb3b280b3b6945ea8fc50ad315abfcc4",
            "034e998325fb41e9bfdbf50c7e266a47"
          ]
        },
        "id": "_rHAbpA_S3H5",
        "outputId": "7232f303-0ac0-4734-8c82-a1b5736b27c8"
      },
      "outputs": [],
      "source": [
        "from datasets import load_dataset\n",
        "\n",
        "dataset = load_dataset(\"ShubhamChoksi/IMDB_Movies\")"
      ]
    },
    {
      "cell_type": "markdown",
      "metadata": {
        "id": "1ngiu--zZ193"
      },
      "source": [
        "# 💻 Store the IMDb dataset locally as CSV file\n",
        "\n",
        "We will be using [LangChain](https://www.langchain.com/) to build our RAG question answering system.\n",
        "\n",
        "[LangChain](https://www.langchain.com/) is an open-source framework designed to simplify the development of applications powered by LLMs. It provides a set of tools, components, and interfaces that make it easier to build LLM-centric applications, allowing you to focus on the core functionality rather than the complexities of integrating language models.\n",
        "\n",
        "To build our RAG systen, we will first store the IMDb dataset into a local CSV file to ensure it is in format we can pass to LangChain.\n"
      ]
    },
    {
      "cell_type": "code",
      "execution_count": 28,
      "metadata": {
        "colab": {
          "base_uri": "https://localhost:8080/",
          "height": 66,
          "referenced_widgets": [
            "ad8139e8927d4605822555f8c07ba479",
            "5ad95c08c6b84c4ba1c60bf5e2f670c5",
            "69ec195fda2e49b888532df04a24ade4",
            "41d80e6c1ab748d6b60aafb9b583b45b",
            "96732afd30134669b05799672836ed51",
            "ea6cc80c60994124bab3fc4968eb6bff",
            "6f365dbeffd54698938c8382356edca1",
            "5c9fadbc34a74cf99fff0f00504f203f",
            "5ebf6b57907f49aeb9c1021f7bfc8337",
            "b2af39d0991b40c4823e3fc3a8935d44",
            "09e1b3c24db84b94aea419bd5c003a46"
          ]
        },
        "id": "ablTj7b4oqwP",
        "outputId": "0b365b88-c251-4dd9-bba3-d12f458f62e1"
      },
      "outputs": [
        {
          "data": {
            "application/vnd.jupyter.widget-view+json": {
              "model_id": "85f3482f822946778ef81ba6dcec1963",
              "version_major": 2,
              "version_minor": 0
            },
            "text/plain": [
              "Creating CSV from Arrow format:   0%|          | 0/7 [00:00<?, ?ba/s]"
            ]
          },
          "metadata": {},
          "output_type": "display_data"
        },
        {
          "data": {
            "text/plain": [
              "10753100"
            ]
          },
          "execution_count": 28,
          "metadata": {},
          "output_type": "execute_result"
        }
      ],
      "source": [
        "dataset_dict = dataset\n",
        "dataset_dict[\"train\"].to_csv(\"imdb.csv\")"
      ]
    },
    {
      "cell_type": "markdown",
      "metadata": {
        "id": "5Oy5YzHgYI1x"
      },
      "source": [
        "# [Optional] 💻 Write the IMDd CSV data into a Pandas DataFrame\n",
        "\n",
        "\n",
        "Pandas is a powerful open-source Python library for data manipulation and analysis.\n",
        "\n",
        "It provides two main data structures:\n",
        "* DataFrame\n",
        "  * A two-dimensional, size-mutable, potentially heterogeneous tabular data structure with labeled axes (rows and columns)\n",
        "* Series\n",
        "  * A one-dimensional labeled array capable of holding data of any data type.\n",
        "\n",
        "The DataFrame is the primary and most widely used data structure in Pandas. It is similar to a spreadsheet or a SQL table, with rows and columns.\n",
        "\n",
        "Each column in a DataFrame can have a different data type, making it a flexible and powerful tool for working with diverse data.\n",
        "\n",
        "We don't **need** to use a DataFrame for this example because we can convert the `dataset` to a CSV using `to_csv`. However, you will likely encounter a DataFrame while processing data for LLM applications, so we want to briefly introduce it here.\n",
        "\n",
        "[Pandas DataFrame Documentation](https://pandas.pydata.org/docs/reference/io.html)"
      ]
    },
    {
      "cell_type": "code",
      "execution_count": 11,
      "metadata": {
        "colab": {
          "base_uri": "https://localhost:8080/"
        },
        "id": "iaM38kzZT51N",
        "outputId": "2b4f9406-ee15-4ae5-dcc7-1985c0d9e317"
      },
      "outputs": [
        {
          "name": "stdout",
          "output_type": "stream",
          "text": [
            "                   Name  rating No_of_ratings  user  critics  \\\n",
            "0          First Knight     6.0           77K   226     54.0   \n",
            "1             First Man     7.3          198K  1.4K    496.0   \n",
            "2  First Man into Space     5.4          1.7K    40     31.0   \n",
            "3          First of May     6.8           454    13      3.0   \n",
            "4      The First of May     6.8           454    13      3.0   \n",
            "\n",
            "                                          Movie_Info  \n",
            "0  Mel Gibson was attached to this project at one...  \n",
            "1  Mark Armstrong and Rick Armstrong said that th...  \n",
            "2  The pilot in the stock footage sequences is Ch...  \n",
            "3  Charles Nelson Reilly survived the worst circu...  \n",
            "4  Charles Nelson Reilly survived the worst circu...  \n"
          ]
        }
      ],
      "source": [
        "import pandas as pd # the Colab runtime will already have this library installed - no need to `pip install`\n",
        "\n",
        "movies_dataframe = pd.read_csv(\"imdb.csv\")\n",
        "\n",
        "print(movies_dataframe.head())"
      ]
    },
    {
      "cell_type": "markdown",
      "metadata": {
        "id": "jvKlXeJjaT5-"
      },
      "source": [
        "# 💻 Install LangChain"
      ]
    },
    {
      "cell_type": "code",
      "execution_count": 3,
      "metadata": {
        "colab": {
          "base_uri": "https://localhost:8080/"
        },
        "id": "kvnwHb8oQcYn",
        "outputId": "ca102dd9-da8b-4681-c25f-a4ee1b3d7218"
      },
      "outputs": [
        {
          "name": "stdout",
          "output_type": "stream",
          "text": [
            "Note: you may need to restart the kernel to use updated packages.\n",
            "Requirement already satisfied: langchain-community in /Users/nathansass/miniforge3/envs/codepath/lib/python3.10/site-packages (0.2.0)\n",
            "Requirement already satisfied: PyYAML>=5.3 in /Users/nathansass/miniforge3/envs/codepath/lib/python3.10/site-packages (from langchain-community) (6.0.1)\n",
            "Requirement already satisfied: SQLAlchemy<3,>=1.4 in /Users/nathansass/miniforge3/envs/codepath/lib/python3.10/site-packages (from langchain-community) (2.0.30)\n",
            "Requirement already satisfied: aiohttp<4.0.0,>=3.8.3 in /Users/nathansass/miniforge3/envs/codepath/lib/python3.10/site-packages (from langchain-community) (3.9.5)\n",
            "Requirement already satisfied: dataclasses-json<0.7,>=0.5.7 in /Users/nathansass/miniforge3/envs/codepath/lib/python3.10/site-packages (from langchain-community) (0.6.6)\n",
            "Requirement already satisfied: langchain<0.3.0,>=0.2.0 in /Users/nathansass/miniforge3/envs/codepath/lib/python3.10/site-packages (from langchain-community) (0.2.0)\n",
            "Requirement already satisfied: langchain-core<0.3.0,>=0.2.0 in /Users/nathansass/miniforge3/envs/codepath/lib/python3.10/site-packages (from langchain-community) (0.2.0)\n",
            "Requirement already satisfied: langsmith<0.2.0,>=0.1.0 in /Users/nathansass/miniforge3/envs/codepath/lib/python3.10/site-packages (from langchain-community) (0.1.59)\n",
            "Requirement already satisfied: numpy<2,>=1 in /Users/nathansass/miniforge3/envs/codepath/lib/python3.10/site-packages (from langchain-community) (1.26.4)\n",
            "Requirement already satisfied: requests<3,>=2 in /Users/nathansass/miniforge3/envs/codepath/lib/python3.10/site-packages (from langchain-community) (2.31.0)\n",
            "Requirement already satisfied: tenacity<9.0.0,>=8.1.0 in /Users/nathansass/miniforge3/envs/codepath/lib/python3.10/site-packages (from langchain-community) (8.3.0)\n",
            "Requirement already satisfied: aiosignal>=1.1.2 in /Users/nathansass/miniforge3/envs/codepath/lib/python3.10/site-packages (from aiohttp<4.0.0,>=3.8.3->langchain-community) (1.3.1)\n",
            "Requirement already satisfied: attrs>=17.3.0 in /Users/nathansass/miniforge3/envs/codepath/lib/python3.10/site-packages (from aiohttp<4.0.0,>=3.8.3->langchain-community) (23.2.0)\n",
            "Requirement already satisfied: frozenlist>=1.1.1 in /Users/nathansass/miniforge3/envs/codepath/lib/python3.10/site-packages (from aiohttp<4.0.0,>=3.8.3->langchain-community) (1.4.1)\n",
            "Requirement already satisfied: multidict<7.0,>=4.5 in /Users/nathansass/miniforge3/envs/codepath/lib/python3.10/site-packages (from aiohttp<4.0.0,>=3.8.3->langchain-community) (6.0.5)\n",
            "Requirement already satisfied: yarl<2.0,>=1.0 in /Users/nathansass/miniforge3/envs/codepath/lib/python3.10/site-packages (from aiohttp<4.0.0,>=3.8.3->langchain-community) (1.9.4)\n",
            "Requirement already satisfied: async-timeout<5.0,>=4.0 in /Users/nathansass/miniforge3/envs/codepath/lib/python3.10/site-packages (from aiohttp<4.0.0,>=3.8.3->langchain-community) (4.0.3)\n",
            "Requirement already satisfied: marshmallow<4.0.0,>=3.18.0 in /Users/nathansass/miniforge3/envs/codepath/lib/python3.10/site-packages (from dataclasses-json<0.7,>=0.5.7->langchain-community) (3.21.2)\n",
            "Requirement already satisfied: typing-inspect<1,>=0.4.0 in /Users/nathansass/miniforge3/envs/codepath/lib/python3.10/site-packages (from dataclasses-json<0.7,>=0.5.7->langchain-community) (0.9.0)\n",
            "Requirement already satisfied: langchain-text-splitters<0.3.0,>=0.2.0 in /Users/nathansass/miniforge3/envs/codepath/lib/python3.10/site-packages (from langchain<0.3.0,>=0.2.0->langchain-community) (0.2.0)\n",
            "Requirement already satisfied: pydantic<3,>=1 in /Users/nathansass/miniforge3/envs/codepath/lib/python3.10/site-packages (from langchain<0.3.0,>=0.2.0->langchain-community) (2.7.1)\n",
            "Requirement already satisfied: jsonpatch<2.0,>=1.33 in /Users/nathansass/miniforge3/envs/codepath/lib/python3.10/site-packages (from langchain-core<0.3.0,>=0.2.0->langchain-community) (1.33)\n",
            "Requirement already satisfied: packaging<24.0,>=23.2 in /Users/nathansass/miniforge3/envs/codepath/lib/python3.10/site-packages (from langchain-core<0.3.0,>=0.2.0->langchain-community) (23.2)\n",
            "Requirement already satisfied: orjson<4.0.0,>=3.9.14 in /Users/nathansass/miniforge3/envs/codepath/lib/python3.10/site-packages (from langsmith<0.2.0,>=0.1.0->langchain-community) (3.10.3)\n",
            "Requirement already satisfied: charset-normalizer<4,>=2 in /Users/nathansass/miniforge3/envs/codepath/lib/python3.10/site-packages (from requests<3,>=2->langchain-community) (3.3.2)\n",
            "Requirement already satisfied: idna<4,>=2.5 in /Users/nathansass/miniforge3/envs/codepath/lib/python3.10/site-packages (from requests<3,>=2->langchain-community) (3.7)\n",
            "Requirement already satisfied: urllib3<3,>=1.21.1 in /Users/nathansass/miniforge3/envs/codepath/lib/python3.10/site-packages (from requests<3,>=2->langchain-community) (2.2.1)\n",
            "Requirement already satisfied: certifi>=2017.4.17 in /Users/nathansass/miniforge3/envs/codepath/lib/python3.10/site-packages (from requests<3,>=2->langchain-community) (2024.2.2)\n",
            "Requirement already satisfied: typing-extensions>=4.6.0 in /Users/nathansass/miniforge3/envs/codepath/lib/python3.10/site-packages (from SQLAlchemy<3,>=1.4->langchain-community) (4.11.0)\n",
            "Requirement already satisfied: jsonpointer>=1.9 in /Users/nathansass/miniforge3/envs/codepath/lib/python3.10/site-packages (from jsonpatch<2.0,>=1.33->langchain-core<0.3.0,>=0.2.0->langchain-community) (2.4)\n",
            "Requirement already satisfied: annotated-types>=0.4.0 in /Users/nathansass/miniforge3/envs/codepath/lib/python3.10/site-packages (from pydantic<3,>=1->langchain<0.3.0,>=0.2.0->langchain-community) (0.6.0)\n",
            "Requirement already satisfied: pydantic-core==2.18.2 in /Users/nathansass/miniforge3/envs/codepath/lib/python3.10/site-packages (from pydantic<3,>=1->langchain<0.3.0,>=0.2.0->langchain-community) (2.18.2)\n",
            "Requirement already satisfied: mypy-extensions>=0.3.0 in /Users/nathansass/miniforge3/envs/codepath/lib/python3.10/site-packages (from typing-inspect<1,>=0.4.0->dataclasses-json<0.7,>=0.5.7->langchain-community) (1.0.0)\n",
            "Note: you may need to restart the kernel to use updated packages.\n",
            "Collecting python-dotenv\n",
            "  Downloading python_dotenv-1.0.1-py3-none-any.whl.metadata (23 kB)\n",
            "Downloading python_dotenv-1.0.1-py3-none-any.whl (19 kB)\n",
            "Installing collected packages: python-dotenv\n",
            "Successfully installed python-dotenv-1.0.1\n",
            "Note: you may need to restart the kernel to use updated packages.\n"
          ]
        }
      ],
      "source": [
        "%pip install -q -U langchain\n",
        "%pip install -U langchain-community\n",
        "%pip install python-dotenv"
      ]
    },
    {
      "cell_type": "markdown",
      "metadata": {
        "id": "mJtt79aIl1kw"
      },
      "source": [
        "[LangChain Document Loaders documentation](https://python.langchain.com/docs/integrations/document_loaders/)"
      ]
    },
    {
      "cell_type": "code",
      "execution_count": 12,
      "metadata": {
        "colab": {
          "base_uri": "https://localhost:8080/"
        },
        "id": "0gOZGO-napjo",
        "outputId": "c328aeb5-3159-41a8-bbe6-911ec334d033"
      },
      "outputs": [
        {
          "data": {
            "text/plain": [
              "6591"
            ]
          },
          "execution_count": 12,
          "metadata": {},
          "output_type": "execute_result"
        }
      ],
      "source": [
        "from langchain.document_loaders.csv_loader import CSVLoader\n",
        "loader = CSVLoader(file_path=\"./imdb.csv\")\n",
        "data = loader.load()\n",
        "\n",
        "len(data) # ensure we have actually loaded data into a format LangChain can recognize\n"
      ]
    },
    {
      "cell_type": "markdown",
      "metadata": {
        "id": "5ftwvT17bV20"
      },
      "source": [
        "# 💻 Chunk the loaded data to improve retrieval performance\n",
        "\n",
        "In a RAG system, the model needs to be able to quickly and accurately retrieve relevant information from a knowledge base or other data sources to assist in generating high-quality responses. However, working with large, unstructured datasets can be computationally expensive and time-consuming, especially during the retrieval process.\n",
        "\n",
        "By splitting the data into these smaller, overlapping chunks, the RAG system can more efficiently search and retrieve the most relevant information to include in the generated response. This can lead to improved performance, as the model doesn't have to process the entire dataset at once, and can focus on the most relevant parts of the data.\n",
        "\n",
        "[LangChain `RecursiveCharacterTextSplitter` documentation](https://sj-langchain.readthedocs.io/en/latest/text_splitter/langchain.text_splitter.RecursiveCharacterTextSplitter.html)\n"
      ]
    },
    {
      "cell_type": "code",
      "execution_count": 13,
      "metadata": {
        "colab": {
          "base_uri": "https://localhost:8080/"
        },
        "id": "NPha0yPTbeYm",
        "outputId": "562d1e46-ae5c-446e-e6d6-550a34b7d7d0"
      },
      "outputs": [
        {
          "name": "stdout",
          "output_type": "stream",
          "text": [
            "19077\n"
          ]
        }
      ],
      "source": [
        "from langchain.text_splitter import RecursiveCharacterTextSplitter\n",
        "\n",
        "# Create a text splitter with 1000 character chunks and 100 character overlap\n",
        "text_splitter = RecursiveCharacterTextSplitter(chunk_size=1000, chunk_overlap=100)\n",
        "\n",
        "# Split the data into chunks\n",
        "chunked_documents = text_splitter.split_documents(data)\n",
        "\n",
        "# Print the length of the chunked documents to ensure the data has been split\n",
        "print(len(chunked_documents))"
      ]
    },
    {
      "cell_type": "markdown",
      "metadata": {
        "id": "iE4FxfUH0yYn"
      },
      "source": [
        "# 💻 Build a way for your RAG system to understand the relationship between words and their meanings\n",
        "\n",
        "You can think of embeddings as secret codes that capture the essence of words, allowing your system to understand their true meanings and relationships. This semantic understanding is crucial for the system to provide precise and contextually relevant answers.\n",
        "\n",
        "Embeddings are represented as dense, continuous vectors in a high-dimensional space and serve as a semantic map that guides your RAG system to the most relevant answers.\n",
        "\n",
        "A good analogy is a compass: embeddings help your system navigates throgugh a vast sea of information, delivering accurate and contextual responses to user queries."
      ]
    },
    {
      "cell_type": "markdown",
      "metadata": {
        "id": "0kNYdfNsDMss"
      },
      "source": [
        "# 💻 Use OpenAI embeddings to create a vector store\n",
        "\n",
        "The first step in creating a vector store is to create embeddings from the data that you want the RAG system to be able to retrieve.\n",
        "\n",
        "This is done using an embedding model, which transforms text data into a high-dimensional vector representation. Each piece of text (such as a document, paragraph, or sentence) is converted into a vector that captures its semantic meaning.\n",
        "\n",
        "For this exercise, we will use OpenAI's embedding model."
      ]
    },
    {
      "cell_type": "code",
      "execution_count": 14,
      "metadata": {
        "colab": {
          "base_uri": "https://localhost:8080/"
        },
        "id": "iLeN2bNyDB_9",
        "outputId": "da88d1a9-d1d1-47c8-ce6a-16b51a7113c7"
      },
      "outputs": [
        {
          "name": "stdout",
          "output_type": "stream",
          "text": [
            "Note: you may need to restart the kernel to use updated packages.\n"
          ]
        }
      ],
      "source": [
        "%pip install -q -U langchain-openai"
      ]
    },
    {
      "cell_type": "markdown",
      "metadata": {
        "id": "UA_GxbhqndW6"
      },
      "source": [
        "[LangChain `OpenAIEmbeddings` documentation](https://python.langchain.com/docs/integrations/text_embedding/openai/)"
      ]
    },
    {
      "cell_type": "code",
      "execution_count": 16,
      "metadata": {
        "id": "CsHbeB9kAzUg"
      },
      "outputs": [],
      "source": [
        "import os\n",
        "from dotenv import load_dotenv\n",
        "from langchain_openai import OpenAIEmbeddings\n",
        "\n",
        "# Load the environment variables from the .env file\n",
        "load_dotenv()\n",
        "\n",
        "# Get the OpenAI API key from the environment variables\n",
        "openai_api_key = os.getenv(\"OPENAI_API_KEY\")\n",
        "\n",
        "# Set the OpenAI API key in the environment variables\n",
        "os.environ[\"OPENAI_API_KEY\"] = openai_api_key\n",
        "\n",
        "# Initialize the embedding model\n",
        "embedding_model = OpenAIEmbeddings(model=\"text-embedding-3-large\")"
      ]
    },
    {
      "cell_type": "markdown",
      "metadata": {
        "id": "esSDGiKKDHWG"
      },
      "source": [
        "# 💻 Create embedder\n",
        "\n",
        "We will create our embedder using the `CacheBackedEmbeddings` class.\n",
        "\n",
        "This class is designed to optimize the process of generating embeddings by caching the results of expensive embedding computations.\n",
        "\n",
        "This caching mechanism prevents the need to recompute embeddings for the same text multiple times, which can be computationally expensive and time-consuming.\n",
        "\n",
        "[LangChain walkthrough of caching embeddings](https://python.langchain.com/docs/modules/data_connection/text_embedding/caching_embeddings/)\n",
        "\n",
        "[`CacheBackedEmbeddings` documentation](https://api.python.langchain.com/en/latest/embeddings/langchain.embeddings.cache.CacheBackedEmbeddings.html)"
      ]
    },
    {
      "cell_type": "code",
      "execution_count": 17,
      "metadata": {
        "id": "QzOXoiNtCtfj"
      },
      "outputs": [],
      "source": [
        "from langchain.embeddings import CacheBackedEmbeddings\n",
        "from langchain.storage import LocalFileStore\n",
        "\n",
        "store = LocalFileStore(\"./cache/\")\n",
        "underlying_embeddings = OpenAIEmbeddings()\n",
        "embedder = CacheBackedEmbeddings.from_bytes_store(\n",
        "    underlying_embeddings, store, namespace=underlying_embeddings.model\n",
        ")"
      ]
    },
    {
      "cell_type": "markdown",
      "metadata": {
        "id": "c5VHXrWmDi31"
      },
      "source": [
        "# 💻 Create vector store using Facebook AI Similarity Search (FAISS)\n",
        "\n",
        "[FAISS](https://ai.meta.com/tools/faiss/) is specifically designed for efficient similarity search in large datasets of high-dimensional vectors.\n",
        "\n",
        "By using vector embeddings and storing them in a FAISS index, you can significantly reduce the computational cost associated with real-time embedding generation and similarity calculations.\n",
        "\n",
        "Retrieval from a FAISS index is much faster than linear search across high-dimensional vectors, speeding up the response time of the system.\n",
        "\n",
        "You may have also noticed that we save the vector store using [`LocalFileStore`](https://python.langchain.com/docs/integrations/stores/file_system/).\n",
        "\n",
        "Saving the vector store locally ensures that the embeddings are persistent across sessions, reducing the need to recompute embeddings and rebuild the index each time the system is used.\n",
        "\n",
        "[LangChain FAISS documentation](https://python.langchain.com/docs/integrations/vectorstores/faiss/)"
      ]
    },
    {
      "cell_type": "code",
      "execution_count": 18,
      "metadata": {
        "colab": {
          "base_uri": "https://localhost:8080/"
        },
        "id": "YARnRd1AEH17",
        "outputId": "2b3fc437-3a07-4252-9a79-dc3ffc6639ec"
      },
      "outputs": [
        {
          "name": "stdout",
          "output_type": "stream",
          "text": [
            "Note: you may need to restart the kernel to use updated packages.\n"
          ]
        }
      ],
      "source": [
        "%pip install -q faiss-cpu tiktoken"
      ]
    },
    {
      "cell_type": "code",
      "execution_count": 19,
      "metadata": {
        "id": "D-LoTQijDeH4"
      },
      "outputs": [],
      "source": [
        "from langchain_community.vectorstores import FAISS\n",
        "\n",
        "vector_store = FAISS.from_documents(chunked_documents, embedder)\n",
        "# TODO: How do we create our vector store using FAISS?\n",
        "\n",
        "# TODO: How do we save our vector store locally?\n",
        "vector_store.save_local(\"vector_store\")"
      ]
    },
    {
      "cell_type": "markdown",
      "metadata": {
        "id": "dIiHtK6zFlhj"
      },
      "source": [
        "# 💻 Ask your RAG system a question!\n",
        "\n",
        "Now that we have the embeddings for our chunked IMDb data saved locally in our vector store, we are ready to ask it a question.\n",
        "\n",
        "To accomplish this task, we first transform a question like \"What are some good sci-fi movies from the 1980s?\" into a vector representation using our embedding model.\n",
        "\n",
        "After that, we perform a similarity search to grab the relevant documents from our vector store.\n",
        "\n",
        "[LangChain Text Embedding Models documentation](https://python.langchain.com/docs/modules/data_connection/text_embedding/)\n",
        "\n",
        "[LangChain Vector Store documentation](https://python.langchain.com/docs/modules/data_connection/vectorstores/)"
      ]
    },
    {
      "cell_type": "code",
      "execution_count": 20,
      "metadata": {
        "colab": {
          "base_uri": "https://localhost:8080/"
        },
        "id": "gytzkfzZFpLD",
        "outputId": "3d79e7c2-ce46-4ff7-c900-1ff189d34193"
      },
      "outputs": [
        {
          "name": "stdout",
          "output_type": "stream",
          "text": [
            "'realistic' images from 1950s' speculative magazines (fictional and 'factual') but are neither as novel nor as effective the contemporaneous Czech sci-fi film 'Ikarie XB-1' (1963) (with which 'Andromeda Nebula' shares a number of tropes). Watching as I did, most of the back-story (which occurs in a futuristic 'socialist' world in which Earth is part of an enlightened galactic alliance) was lost on me but again the images were interesting (a mix of Soviet-style monumental architecture and neoclassical 'future-tropes'). The film is based on a novel by Ivan Yefremov and was originally intended to the first in a film series. Worth watching for the imagery but unless you speak Russian, I'd suggest investing in a DVD, waiting for a subtitled version to show up on-line, or skipping to the 'special effects' sequences.,\n",
            "Compare this movie to the 1956 movie Forbidden Planet, and think about which one gives you a better 'futuristic' portrayal of how mankind has advanced in 'the future'. Even allowing for the un-PC aspects of the 1950's (which I find amusing/enjoyable, not offensive), the plot devices of Conquest of Space are absurd. There's no way that a mission to mars wouldn't catch the mental problems inherent in one of the main characters, which is the primary plot device for causing peril in the mission.\n",
            "\n",
            "Buy/rent this movie for the visuals of the space vehicles and Mars, and for the place in sci-fi history this movie occupies, not because you expect this to be a 'good' movie. The basic premises of the plot are pretty heavily flawed and therefore annoying.,\n",
            "Written by Peter Allen and Ron Friesen\n",
            "Sung by Pauline Lameraux (uncredited),Cyborg II, sounds like some 2nd-rate movie. Is not. Not at all! I was surprised the very, very nice 'ambiance' this movie has. Good looking, convincing effects and surroundings, very good sound. It has even a nice (though somewhat unsurprising) story with nice characters. For me, 'Blade Runner' sets the standard for this kind of movies. But in some aspects, most notably the overall ambiance and 'sadness' this movie comes close. Let's call this movie very, very acceptable...,\n",
            "The Shakespearean (\"The Tempest\") and Freudian (\"Id-monster\") elements have been noted by many critics. In the 1950's, with the atomic and hydrogen bombs so new and terrifying, other sci-fi movies had asked whether man had the wisdom to use all the new science for good rather than evil. But they usually dealt with that solely on a surface level, by just having some monster created with the new science that comes out and kills a bunch of people. Only \"Forbidden Planet\" dared to actually delve into the depths of human psychology to see what our baser instincts are capable of when given full rein. It directly refuted the notion that all that new science and technology was somehow civilizing humanity. The Krell, a far more advanced race than we, are never seen on screen (only their artifacts are shown, leaving you to imagine what they looked like). But their disappearance is a warning that even a far more advanced race like they, couldn't escape the baser instincts and subconscious drives\n"
          ]
        }
      ],
      "source": [
        "query = \"What are some good sci-fi movies from the 1980s?\"\n",
        "\n",
        "# TODO: How do we embed our query?\n",
        "embedded_query = OpenAIEmbeddings().embed_query(query)\n",
        "# TODO: How do we do a similarity search to find documents similar to our query?\n",
        "similar_documents = vector_store.similarity_search_by_vector(embedded_query)\n",
        "\n",
        "for page in similar_documents:\n",
        "  print(page.page_content)\n",
        "  # TODO: Print the similar documents that the similarity search returns?"
      ]
    },
    {
      "cell_type": "markdown",
      "metadata": {
        "id": "CLZ3uCQWLwuZ"
      },
      "source": [
        "# 💻 Combine the retrieved data with the output of the LLM using [`Runnable`](https://python.langchain.com/docs/expression_language/interface/) interface\n",
        "\n",
        "To understand the Runnable interface in [LangChain]((https://python.langchain.com/docs/expression_language/interface/)), let's use the analogy of a kitchen staff in a restaurant.\n",
        "\n",
        "In a kitchen, you have different chefs who specialize in various tasks—there's a pastry chef, a grill chef, a sauce chef, and so on.\n",
        "\n",
        "Each chef is responsible for preparing a specific part of the meal, and they must work in a certain order to ensure the dish comes out correctly.\n",
        "\n",
        "The head chef oversees the process, ensuring that each part is ready at the right time and that everything comes together in the end.\n",
        "\n",
        "In this analogy:\n",
        "* Each chef represents a component in LangChain that implements the Runnable interface.\n",
        "* The dish being prepared is the final output from the LangChain system, such as an answer to a user's question.\n",
        "* The head chef is like the LangChain framework, which coordinates the execution of each Runnable component.\n",
        "\n",
        "## Preparing a Multi-Course Meal\n",
        "\n",
        "We are using LangChain to build a system that answers questions about movies.\n",
        "\n",
        "We will have a sequence of Runnables that:\n",
        "\n",
        "1. Retrieves documents related to the query (like finding the right ingredients)\n",
        "2. Parses the documents to extract relevant information (like prepping the ingredients)\n",
        "3. Generates a response based on the information (like cooking the ingredients to create a dish)\n"
      ]
    },
    {
      "cell_type": "markdown",
      "metadata": {
        "id": "fgdN8lNIKkm7"
      },
      "source": [
        "# 💻 Create the components (chefs)"
      ]
    },
    {
      "cell_type": "code",
      "execution_count": 21,
      "metadata": {
        "id": "UOeC5PZMHYys"
      },
      "outputs": [
        {
          "name": "stdout",
          "output_type": "stream",
          "text": [
            "Note: you may need to restart the kernel to use updated packages.\n"
          ]
        }
      ],
      "source": [
        "%pip install -q langchain_openai"
      ]
    },
    {
      "cell_type": "markdown",
      "metadata": {
        "id": "-qgDNM-9polW"
      },
      "source": [
        "[LangChain ChatPromptTemplate quick reference](https://python.langchain.com/docs/modules/model_io/prompts/quick_start/)\n",
        "\n",
        "[LangChain `VectorStoreRetriever` documentation](https://python.langchain.com/docs/modules/data_connection/retrievers/vectorstore/)\n",
        "\n",
        "[LangChain `ChatOpenAI` documentation](https://python.langchain.com/docs/integrations/chat/openai/)\n",
        "\n",
        "[LangChain `StrOutputParser` documentation](https://api.python.langchain.com/en/latest/output_parsers/langchain_core.output_parsers.string.StrOutputParser.html)"
      ]
    },
    {
      "cell_type": "code",
      "execution_count": 22,
      "metadata": {
        "colab": {
          "base_uri": "https://localhost:8080/"
        },
        "id": "IuevOfIKKDWD",
        "outputId": "b2c223a4-7882-483d-b175-9b0ca384078c"
      },
      "outputs": [
        {
          "name": "stdout",
          "output_type": "stream",
          "text": [
            "messages=[HumanMessage(content='What are good movies for people who like bats')]\n",
            "[Document(page_content='Name: Bats in the Belfry\\nrating: 5.5\\nNo_of_ratings: 176\\nuser: 4\\ncritics: \\nMovie_Info:', metadata={'source': './imdb.csv', 'row': 2210}), Document(page_content='Name: Bats\\nrating: 4.0\\nNo_of_ratings: 11K\\nuser: 177\\ncritics: 60.0', metadata={'source': './imdb.csv', 'row': 2209}), Document(page_content='\"The Batman vs. Dracula\" is a DC animated movie that is well-worth the time, money and effort. This is without a doubt the best animated superhero movie I had seen, and it was quite a pleasant surprise in terms of entertainment.\\n\\nMy rating of \"The Batman vs. Dracula\" lands on an eight our of ten stars.,', metadata={'source': './imdb.csv', 'row': 2197}), Document(page_content='Name: The Bat People\\nrating: 2.8\\nNo_of_ratings: 2.6K\\nuser: 55\\ncritics: 26.0\\nMovie_Info: The first feature film for makeup artist Stan Winston.,Dr. Beck\\'s field changes from caves, to bats, to \"preventative medicine.\",Dr. John Beck: You\\'re quite the philsopher!\\nTramp: That\\'s me: Jack-of-all-thoughts and master of none.,For its 1999 airing on the cult series Mystery Science Theater 3000 there were some brief cuts made to the movie, which was shown under the alternate title \"It Lives By Night.\" Among the cuts were the shot of the nurse laying dead after falling, the sequence of two lovers making out in a truck before the girl is killed in the trailer court, and the images of the sheriff preparing to shoot himself after being attacked by bats during the finale.,Featured in Elvira\\'s Movie Macabre: The Bat People (1982),Angel of Fear\\nMusic by Artie Kane\\nLyrics by Morgan Ames', metadata={'source': './imdb.csv', 'row': 2176})]\n"
          ]
        }
      ],
      "source": [
        "from langchain_core.runnables.base import RunnableSequence\n",
        "from langchain_core.runnables.passthrough import RunnablePassthrough\n",
        "from langchain_core.output_parsers import StrOutputParser\n",
        "from langchain_core.prompts import ChatPromptTemplate\n",
        "from langchain_openai import ChatOpenAI\n",
        "\n",
        "# Create the components (chefs)\n",
        "\n",
        "# TODO: How do we create a prompt template to send to our LLM that will incorporate the documents from our retriever with the question we ask the chat model?\n",
        "prompt_template = ChatPromptTemplate.from_template(\n",
        "    \"What are good movies for people who like {user_input}\"\n",
        ")\n",
        "\n",
        "messages = prompt_template.format_messages(user_input=\"bats\")\n",
        "print(prompt_template.invoke({\"user_input\": \"bats\"}))\n",
        "\n",
        "# print(messages)\n",
        "\n",
        "retriever = vector_store.as_retriever()\n",
        "print(retriever.invoke(\"What is a good movie for someone who likes bats\"))\n",
        "\n",
        "chat_model = ChatOpenAI(model=\"gpt-3.5-turbo-0125\", temperature=0) # TODO: How do we create a chat model / LLM?\n",
        "\n",
        "parser = StrOutputParser()\n"
      ]
    },
    {
      "cell_type": "markdown",
      "metadata": {
        "id": "ay_KJntVD0RX"
      },
      "source": [
        "# 💻 Create the sequence (recipe)"
      ]
    },
    {
      "cell_type": "markdown",
      "metadata": {
        "id": "WR70Udy2tEbo"
      },
      "source": [
        "[LangChain Runnable interface documentation](https://python.langchain.com/docs/expression_language/interface/)"
      ]
    },
    {
      "cell_type": "code",
      "execution_count": 23,
      "metadata": {
        "id": "ONZdKS_CKrVV"
      },
      "outputs": [],
      "source": [
        "\n",
        "runnable_chain = (\n",
        "    prompt_template\n",
        "    | chat_model\n",
        "    | parser\n",
        ")\n"
      ]
    },
    {
      "cell_type": "markdown",
      "metadata": {
        "id": "1hTqRvmyKVUp"
      },
      "source": [
        "# 💻 Execute the sequence (prepare the meal)"
      ]
    },
    {
      "cell_type": "code",
      "execution_count": 24,
      "metadata": {
        "colab": {
          "base_uri": "https://localhost:8080/"
        },
        "id": "UsljoHZLKuD1",
        "outputId": "0a98b818-e9bd-4b1b-a474-d87e87cfecc1"
      },
      "outputs": [
        {
          "name": "stdout",
          "output_type": "stream",
          "text": [
            "1. Batman Begins (2005) - A reboot of the Batman franchise that explores the origins of the Dark Knight.\n",
            "\n",
            "2. The Dark Knight (2008) - The sequel to Batman Begins, this film features an iconic performance by Heath Ledger as the Joker.\n",
            "\n",
            "3. Dracula (1992) - A classic vampire film that features bats prominently in its imagery.\n",
            "\n",
            "4. Interview with the Vampire (1994) - A gothic horror film that follows the story of a vampire named Louis, played by Brad Pitt.\n",
            "\n",
            "5. Bram Stoker's Dracula (1992) - A visually stunning adaptation of the classic vampire novel, featuring bats as a recurring motif.\n",
            "\n",
            "6. The Lost Boys (1987) - A cult classic vampire film that follows a group of teenage vampires in a California beach town.\n",
            "\n",
            "7. Nosferatu (1922) - A silent film classic that features a vampire character inspired by Dracula.\n",
            "\n",
            "8. Bats (1999) - A horror film about genetically engineered bats that terrorize a small Texas town.\n",
            "\n",
            "9. The Batman (2022) - An upcoming film starring Robert Pattinson as the Caped Crusader, set to be released in 2022.\n",
            "\n",
            "10. Blade (1998) - A superhero film about a half-vampire, half-human who hunts vampires, featuring Wesley Snipes in the title role.\n"
          ]
        }
      ],
      "source": [
        "# Synchronous execution\n",
        "output_chunks = runnable_chain.invoke({\"user_input\": \"bats\"})\n",
        "# print(output_chunks)\n",
        "print(''.join(output_chunks))"
      ]
    },
    {
      "cell_type": "code",
      "execution_count": 26,
      "metadata": {
        "colab": {
          "base_uri": "https://localhost:8080/"
        },
        "id": "wTGmekLkD2SP",
        "outputId": "bdb6cc96-d3a0-40d2-aec0-a7f294217766"
      },
      "outputs": [
        {
          "name": "stdout",
          "output_type": "stream",
          "text": [
            "\n",
            "1\n",
            ".\n",
            " Batman\n",
            " Begins\n",
            " (\n",
            "200\n",
            "5\n",
            ")\n",
            " -\n",
            " A\n",
            " reboot\n",
            " of\n",
            " the\n",
            " Batman\n",
            " franchise\n",
            " that\n",
            " explores\n",
            " the\n",
            " origins\n",
            " of\n",
            " the\n",
            " iconic\n",
            " superhero\n",
            ".\n",
            "\n",
            "\n",
            "2\n",
            ".\n",
            " The\n",
            " Dark\n",
            " Knight\n",
            " (\n",
            "200\n",
            "8\n",
            ")\n",
            " -\n",
            " The\n",
            " sequel\n",
            " to\n",
            " Batman\n",
            " Begins\n",
            ",\n",
            " this\n",
            " film\n",
            " features\n",
            " an\n",
            " iconic\n",
            " performance\n",
            " by\n",
            " Heath\n",
            " Ledger\n",
            " as\n",
            " the\n",
            " Joker\n",
            ".\n",
            "\n",
            "\n",
            "3\n",
            ".\n",
            " Dr\n",
            "acula\n",
            " (\n",
            "193\n",
            "1\n",
            ")\n",
            " -\n",
            " A\n",
            " classic\n",
            " horror\n",
            " film\n",
            " featuring\n",
            " the\n",
            " iconic\n",
            " vampire\n",
            " Count\n",
            " Dr\n",
            "acula\n",
            ".\n",
            "\n",
            "\n",
            "4\n",
            ".\n",
            " Interview\n",
            " with\n",
            " the\n",
            " Vampire\n",
            " (\n",
            "199\n",
            "4\n",
            ")\n",
            " -\n",
            " A\n",
            " film\n",
            " adaptation\n",
            " of\n",
            " Anne\n",
            " Rice\n",
            "'s\n",
            " novel\n",
            " about\n",
            " a\n",
            " vampire\n",
            " who\n",
            " tells\n",
            " his\n",
            " life\n",
            " story\n",
            " to\n",
            " a\n",
            " journalist\n",
            ".\n",
            "\n",
            "\n",
            "5\n",
            ".\n",
            " The\n",
            " Lost\n",
            " Boys\n",
            " (\n",
            "198\n",
            "7\n",
            ")\n",
            " -\n",
            " A\n",
            " cult\n",
            " classic\n",
            " film\n",
            " about\n",
            " a\n",
            " group\n",
            " of\n",
            " teenage\n",
            " vampires\n",
            " in\n",
            " a\n",
            " California\n",
            " beach\n",
            " town\n",
            ".\n",
            "\n",
            "\n",
            "6\n",
            ".\n",
            " Blade\n",
            " (\n",
            "199\n",
            "8\n",
            ")\n",
            " -\n",
            " A\n",
            " superhero\n",
            " film\n",
            " about\n",
            " a\n",
            " half\n",
            "-v\n",
            "ampire\n",
            ",\n",
            " half\n",
            "-human\n",
            " who\n",
            " hunts\n",
            " vampires\n",
            ".\n",
            "\n",
            "\n",
            "7\n",
            ".\n",
            " Let\n",
            " the\n",
            " Right\n",
            " One\n",
            " In\n",
            " (\n",
            "200\n",
            "8\n",
            ")\n",
            " -\n",
            " A\n",
            " Swedish\n",
            " horror\n",
            " film\n",
            " about\n",
            " a\n",
            " young\n",
            " boy\n",
            " who\n",
            " be\n",
            "friends\n",
            " a\n",
            " vampire\n",
            " girl\n",
            ".\n",
            "\n",
            "\n",
            "8\n",
            ".\n",
            " Nos\n",
            "fer\n",
            "atu\n",
            " (\n",
            "192\n",
            "2\n",
            ")\n",
            " -\n",
            " A\n",
            " silent\n",
            " film\n",
            " adaptation\n",
            " of\n",
            " Bram\n",
            " St\n",
            "oker\n",
            "'s\n",
            " Dr\n",
            "acula\n",
            ",\n",
            " featuring\n",
            " the\n",
            " iconic\n",
            " vampire\n",
            " Count\n",
            " Or\n",
            "lok\n",
            ".\n",
            "\n",
            "\n",
            "9\n",
            ".\n",
            " What\n",
            " We\n",
            " Do\n",
            " in\n",
            " the\n",
            " Shadows\n",
            " (\n",
            "201\n",
            "4\n",
            ")\n",
            " -\n",
            " A\n",
            " mock\n",
            "ument\n",
            "ary\n",
            "-style\n",
            " comedy\n",
            " film\n",
            " about\n",
            " a\n",
            " group\n",
            " of\n",
            " vampire\n",
            " room\n",
            "mates\n",
            " living\n",
            " in\n",
            " New\n",
            " Zealand\n",
            ".\n",
            "\n",
            "\n",
            "10\n",
            ".\n",
            " Twilight\n",
            " (\n",
            "200\n",
            "8\n",
            ")\n",
            " -\n",
            " A\n",
            " romantic\n",
            " fantasy\n",
            " film\n",
            " about\n",
            " a\n",
            " teenage\n",
            " girl\n",
            " who\n",
            " falls\n",
            " in\n",
            " love\n",
            " with\n",
            " a\n",
            " vampire\n",
            ".\n",
            "\n"
          ]
        }
      ],
      "source": [
        "# Asynchronous execution (e.g., for a better a chatbot user experience)\n",
        "import asyncio\n",
        "\n",
        "async def main():\n",
        "  output_stream = runnable_chain.astream({\"user_input\": \"bats\"})\n",
        "  # TODO: How do we execute our chain asynchronously?\n",
        "\n",
        "  async for chunk in output_stream:\n",
        "    print(chunk, sep='', flush=True)\n",
        "\n",
        "await main()"
      ]
    },
    {
      "cell_type": "code",
      "execution_count": null,
      "metadata": {},
      "outputs": [],
      "source": [
        "\n"
      ]
    },
    {
      "cell_type": "code",
      "execution_count": null,
      "metadata": {},
      "outputs": [],
      "source": []
    },
    {
      "cell_type": "markdown",
      "metadata": {
        "id": "pgY5luS2Mm8_"
      },
      "source": [
        "# 🎉 Congratulations on Completing Your Project!\n",
        "\n",
        "You have successfully built a Retrieval Augmented Generation (RAG) question answering system for movie recommendations using the IMDb dataset.\n",
        "\n",
        "This system allows users to interactively ask questions about movies, and it retrieves relevant information to provide insightful answers.\n",
        "\n",
        "Great job on reaching this milestone!\n",
        "\n",
        "From here, we can move on to our [Week 2: Introduction to Retrieval-Augmented Generation (RAG) Experiment Notebook](https://colab.research.google.com/drive/1pyzWvYDCKEmORN_yIsKwki6BQ5I9kXWK#scrollTo=Grd0XoS-tLgs)."
      ]
    },
    {
      "cell_type": "markdown",
      "metadata": {
        "id": "vCZSmhWrxMyA"
      },
      "source": [
        "# 📝 Submission\n",
        "\n",
        "Submit your experiment notebook for Week 2 using the form [here](https://docs.google.com/forms/d/1l935d2L3YN3Kj3ovNf3CKWB2EyxvDMkYY_sYte-NYWI/edit).\n",
        "\n",
        "Please make sure sharing permissions are turned on for everyone with the link.\n"
      ]
    }
  ],
  "metadata": {
    "accelerator": "GPU",
    "colab": {
      "gpuType": "T4",
      "machine_shape": "hm",
      "provenance": []
    },
    "kernelspec": {
      "display_name": "Python 3",
      "name": "python3"
    },
    "language_info": {
      "codemirror_mode": {
        "name": "ipython",
        "version": 3
      },
      "file_extension": ".py",
      "mimetype": "text/x-python",
      "name": "python",
      "nbconvert_exporter": "python",
      "pygments_lexer": "ipython3",
      "version": "3.10.12"
    },
    "widgets": {
      "application/vnd.jupyter.widget-state+json": {
        "034e998325fb41e9bfdbf50c7e266a47": {
          "model_module": "@jupyter-widgets/controls",
          "model_module_version": "1.5.0",
          "model_name": "DescriptionStyleModel",
          "state": {
            "_model_module": "@jupyter-widgets/controls",
            "_model_module_version": "1.5.0",
            "_model_name": "DescriptionStyleModel",
            "_view_count": null,
            "_view_module": "@jupyter-widgets/base",
            "_view_module_version": "1.2.0",
            "_view_name": "StyleView",
            "description_width": ""
          }
        },
        "07a454021e77401a812103eabe94a11f": {
          "model_module": "@jupyter-widgets/base",
          "model_module_version": "1.2.0",
          "model_name": "LayoutModel",
          "state": {
            "_model_module": "@jupyter-widgets/base",
            "_model_module_version": "1.2.0",
            "_model_name": "LayoutModel",
            "_view_count": null,
            "_view_module": "@jupyter-widgets/base",
            "_view_module_version": "1.2.0",
            "_view_name": "LayoutView",
            "align_content": null,
            "align_items": null,
            "align_self": null,
            "border": null,
            "bottom": null,
            "display": null,
            "flex": null,
            "flex_flow": null,
            "grid_area": null,
            "grid_auto_columns": null,
            "grid_auto_flow": null,
            "grid_auto_rows": null,
            "grid_column": null,
            "grid_gap": null,
            "grid_row": null,
            "grid_template_areas": null,
            "grid_template_columns": null,
            "grid_template_rows": null,
            "height": null,
            "justify_content": null,
            "justify_items": null,
            "left": null,
            "margin": null,
            "max_height": null,
            "max_width": null,
            "min_height": null,
            "min_width": null,
            "object_fit": null,
            "object_position": null,
            "order": null,
            "overflow": null,
            "overflow_x": null,
            "overflow_y": null,
            "padding": null,
            "right": null,
            "top": null,
            "visibility": null,
            "width": null
          }
        },
        "09e1b3c24db84b94aea419bd5c003a46": {
          "model_module": "@jupyter-widgets/controls",
          "model_module_version": "1.5.0",
          "model_name": "DescriptionStyleModel",
          "state": {
            "_model_module": "@jupyter-widgets/controls",
            "_model_module_version": "1.5.0",
            "_model_name": "DescriptionStyleModel",
            "_view_count": null,
            "_view_module": "@jupyter-widgets/base",
            "_view_module_version": "1.2.0",
            "_view_name": "StyleView",
            "description_width": ""
          }
        },
        "0ffca480327b434b8b2724168de27bf4": {
          "model_module": "@jupyter-widgets/controls",
          "model_module_version": "1.5.0",
          "model_name": "HTMLModel",
          "state": {
            "_dom_classes": [],
            "_model_module": "@jupyter-widgets/controls",
            "_model_module_version": "1.5.0",
            "_model_name": "HTMLModel",
            "_view_count": null,
            "_view_module": "@jupyter-widgets/controls",
            "_view_module_version": "1.5.0",
            "_view_name": "HTMLView",
            "description": "",
            "description_tooltip": null,
            "layout": "IPY_MODEL_bb3b280b3b6945ea8fc50ad315abfcc4",
            "placeholder": "​",
            "style": "IPY_MODEL_034e998325fb41e9bfdbf50c7e266a47",
            "value": " 6591/6591 [00:00&lt;00:00, 34185.85 examples/s]"
          }
        },
        "166fe1537e364e74bc640450d0dfe2fc": {
          "model_module": "@jupyter-widgets/base",
          "model_module_version": "1.2.0",
          "model_name": "LayoutModel",
          "state": {
            "_model_module": "@jupyter-widgets/base",
            "_model_module_version": "1.2.0",
            "_model_name": "LayoutModel",
            "_view_count": null,
            "_view_module": "@jupyter-widgets/base",
            "_view_module_version": "1.2.0",
            "_view_name": "LayoutView",
            "align_content": null,
            "align_items": null,
            "align_self": null,
            "border": null,
            "bottom": null,
            "display": null,
            "flex": null,
            "flex_flow": null,
            "grid_area": null,
            "grid_auto_columns": null,
            "grid_auto_flow": null,
            "grid_auto_rows": null,
            "grid_column": null,
            "grid_gap": null,
            "grid_row": null,
            "grid_template_areas": null,
            "grid_template_columns": null,
            "grid_template_rows": null,
            "height": null,
            "justify_content": null,
            "justify_items": null,
            "left": null,
            "margin": null,
            "max_height": null,
            "max_width": null,
            "min_height": null,
            "min_width": null,
            "object_fit": null,
            "object_position": null,
            "order": null,
            "overflow": null,
            "overflow_x": null,
            "overflow_y": null,
            "padding": null,
            "right": null,
            "top": null,
            "visibility": null,
            "width": null
          }
        },
        "1bc39bc0ffdc4524ab03abb151885ee9": {
          "model_module": "@jupyter-widgets/base",
          "model_module_version": "1.2.0",
          "model_name": "LayoutModel",
          "state": {
            "_model_module": "@jupyter-widgets/base",
            "_model_module_version": "1.2.0",
            "_model_name": "LayoutModel",
            "_view_count": null,
            "_view_module": "@jupyter-widgets/base",
            "_view_module_version": "1.2.0",
            "_view_name": "LayoutView",
            "align_content": null,
            "align_items": null,
            "align_self": null,
            "border": null,
            "bottom": null,
            "display": null,
            "flex": null,
            "flex_flow": null,
            "grid_area": null,
            "grid_auto_columns": null,
            "grid_auto_flow": null,
            "grid_auto_rows": null,
            "grid_column": null,
            "grid_gap": null,
            "grid_row": null,
            "grid_template_areas": null,
            "grid_template_columns": null,
            "grid_template_rows": null,
            "height": null,
            "justify_content": null,
            "justify_items": null,
            "left": null,
            "margin": null,
            "max_height": null,
            "max_width": null,
            "min_height": null,
            "min_width": null,
            "object_fit": null,
            "object_position": null,
            "order": null,
            "overflow": null,
            "overflow_x": null,
            "overflow_y": null,
            "padding": null,
            "right": null,
            "top": null,
            "visibility": null,
            "width": null
          }
        },
        "1c1df02e3b044c7f86d99e369c64d215": {
          "model_module": "@jupyter-widgets/base",
          "model_module_version": "1.2.0",
          "model_name": "LayoutModel",
          "state": {
            "_model_module": "@jupyter-widgets/base",
            "_model_module_version": "1.2.0",
            "_model_name": "LayoutModel",
            "_view_count": null,
            "_view_module": "@jupyter-widgets/base",
            "_view_module_version": "1.2.0",
            "_view_name": "LayoutView",
            "align_content": null,
            "align_items": null,
            "align_self": null,
            "border": null,
            "bottom": null,
            "display": null,
            "flex": null,
            "flex_flow": null,
            "grid_area": null,
            "grid_auto_columns": null,
            "grid_auto_flow": null,
            "grid_auto_rows": null,
            "grid_column": null,
            "grid_gap": null,
            "grid_row": null,
            "grid_template_areas": null,
            "grid_template_columns": null,
            "grid_template_rows": null,
            "height": null,
            "justify_content": null,
            "justify_items": null,
            "left": null,
            "margin": null,
            "max_height": null,
            "max_width": null,
            "min_height": null,
            "min_width": null,
            "object_fit": null,
            "object_position": null,
            "order": null,
            "overflow": null,
            "overflow_x": null,
            "overflow_y": null,
            "padding": null,
            "right": null,
            "top": null,
            "visibility": null,
            "width": null
          }
        },
        "21bd54e7bae4416ea06a5a531177a7d3": {
          "model_module": "@jupyter-widgets/base",
          "model_module_version": "1.2.0",
          "model_name": "LayoutModel",
          "state": {
            "_model_module": "@jupyter-widgets/base",
            "_model_module_version": "1.2.0",
            "_model_name": "LayoutModel",
            "_view_count": null,
            "_view_module": "@jupyter-widgets/base",
            "_view_module_version": "1.2.0",
            "_view_name": "LayoutView",
            "align_content": null,
            "align_items": null,
            "align_self": null,
            "border": null,
            "bottom": null,
            "display": null,
            "flex": null,
            "flex_flow": null,
            "grid_area": null,
            "grid_auto_columns": null,
            "grid_auto_flow": null,
            "grid_auto_rows": null,
            "grid_column": null,
            "grid_gap": null,
            "grid_row": null,
            "grid_template_areas": null,
            "grid_template_columns": null,
            "grid_template_rows": null,
            "height": null,
            "justify_content": null,
            "justify_items": null,
            "left": null,
            "margin": null,
            "max_height": null,
            "max_width": null,
            "min_height": null,
            "min_width": null,
            "object_fit": null,
            "object_position": null,
            "order": null,
            "overflow": null,
            "overflow_x": null,
            "overflow_y": null,
            "padding": null,
            "right": null,
            "top": null,
            "visibility": null,
            "width": null
          }
        },
        "28532ad9ba2a433abe212bc022735afe": {
          "model_module": "@jupyter-widgets/base",
          "model_module_version": "1.2.0",
          "model_name": "LayoutModel",
          "state": {
            "_model_module": "@jupyter-widgets/base",
            "_model_module_version": "1.2.0",
            "_model_name": "LayoutModel",
            "_view_count": null,
            "_view_module": "@jupyter-widgets/base",
            "_view_module_version": "1.2.0",
            "_view_name": "LayoutView",
            "align_content": null,
            "align_items": null,
            "align_self": null,
            "border": null,
            "bottom": null,
            "display": null,
            "flex": null,
            "flex_flow": null,
            "grid_area": null,
            "grid_auto_columns": null,
            "grid_auto_flow": null,
            "grid_auto_rows": null,
            "grid_column": null,
            "grid_gap": null,
            "grid_row": null,
            "grid_template_areas": null,
            "grid_template_columns": null,
            "grid_template_rows": null,
            "height": null,
            "justify_content": null,
            "justify_items": null,
            "left": null,
            "margin": null,
            "max_height": null,
            "max_width": null,
            "min_height": null,
            "min_width": null,
            "object_fit": null,
            "object_position": null,
            "order": null,
            "overflow": null,
            "overflow_x": null,
            "overflow_y": null,
            "padding": null,
            "right": null,
            "top": null,
            "visibility": null,
            "width": null
          }
        },
        "2ddf711f017c46a9ac00983a43e0af0a": {
          "model_module": "@jupyter-widgets/controls",
          "model_module_version": "1.5.0",
          "model_name": "DescriptionStyleModel",
          "state": {
            "_model_module": "@jupyter-widgets/controls",
            "_model_module_version": "1.5.0",
            "_model_name": "DescriptionStyleModel",
            "_view_count": null,
            "_view_module": "@jupyter-widgets/base",
            "_view_module_version": "1.2.0",
            "_view_name": "StyleView",
            "description_width": ""
          }
        },
        "2f2aa4d4264e4f14bb8462b02b2b005e": {
          "model_module": "@jupyter-widgets/controls",
          "model_module_version": "1.5.0",
          "model_name": "FloatProgressModel",
          "state": {
            "_dom_classes": [],
            "_model_module": "@jupyter-widgets/controls",
            "_model_module_version": "1.5.0",
            "_model_name": "FloatProgressModel",
            "_view_count": null,
            "_view_module": "@jupyter-widgets/controls",
            "_view_module_version": "1.5.0",
            "_view_name": "ProgressView",
            "bar_style": "success",
            "description": "",
            "description_tooltip": null,
            "layout": "IPY_MODEL_1c1df02e3b044c7f86d99e369c64d215",
            "max": 21,
            "min": 0,
            "orientation": "horizontal",
            "style": "IPY_MODEL_edc451b300b844e3849c1fed1284d0d2",
            "value": 21
          }
        },
        "2fbb25fe40954b2abad47e45a9aadea2": {
          "model_module": "@jupyter-widgets/controls",
          "model_module_version": "1.5.0",
          "model_name": "FloatProgressModel",
          "state": {
            "_dom_classes": [],
            "_model_module": "@jupyter-widgets/controls",
            "_model_module_version": "1.5.0",
            "_model_name": "FloatProgressModel",
            "_view_count": null,
            "_view_module": "@jupyter-widgets/controls",
            "_view_module_version": "1.5.0",
            "_view_name": "ProgressView",
            "bar_style": "success",
            "description": "",
            "description_tooltip": null,
            "layout": "IPY_MODEL_a77d4e652aa342d8b75bacf100d65f81",
            "max": 6591,
            "min": 0,
            "orientation": "horizontal",
            "style": "IPY_MODEL_973f9ee8411147b98f5808629aa0767f",
            "value": 6591
          }
        },
        "31f0f2be63864278afa19df8a2a1f729": {
          "model_module": "@jupyter-widgets/controls",
          "model_module_version": "1.5.0",
          "model_name": "HBoxModel",
          "state": {
            "_dom_classes": [],
            "_model_module": "@jupyter-widgets/controls",
            "_model_module_version": "1.5.0",
            "_model_name": "HBoxModel",
            "_view_count": null,
            "_view_module": "@jupyter-widgets/controls",
            "_view_module_version": "1.5.0",
            "_view_name": "HBoxView",
            "box_style": "",
            "children": [
              "IPY_MODEL_7873862253ca4905a4fc965aa7f02df5",
              "IPY_MODEL_48945a058ab4418388d41595f5de622e",
              "IPY_MODEL_392319a87af04eb89044c95692cf9253"
            ],
            "layout": "IPY_MODEL_21bd54e7bae4416ea06a5a531177a7d3"
          }
        },
        "373049533b8e4cba804f0c84c263e2d9": {
          "model_module": "@jupyter-widgets/controls",
          "model_module_version": "1.5.0",
          "model_name": "DescriptionStyleModel",
          "state": {
            "_model_module": "@jupyter-widgets/controls",
            "_model_module_version": "1.5.0",
            "_model_name": "DescriptionStyleModel",
            "_view_count": null,
            "_view_module": "@jupyter-widgets/base",
            "_view_module_version": "1.2.0",
            "_view_name": "StyleView",
            "description_width": ""
          }
        },
        "392319a87af04eb89044c95692cf9253": {
          "model_module": "@jupyter-widgets/controls",
          "model_module_version": "1.5.0",
          "model_name": "HTMLModel",
          "state": {
            "_dom_classes": [],
            "_model_module": "@jupyter-widgets/controls",
            "_model_module_version": "1.5.0",
            "_model_name": "HTMLModel",
            "_view_count": null,
            "_view_module": "@jupyter-widgets/controls",
            "_view_module_version": "1.5.0",
            "_view_name": "HTMLView",
            "description": "",
            "description_tooltip": null,
            "layout": "IPY_MODEL_07a454021e77401a812103eabe94a11f",
            "placeholder": "​",
            "style": "IPY_MODEL_2ddf711f017c46a9ac00983a43e0af0a",
            "value": " 10.8M/10.8M [00:01&lt;00:00, 7.10MB/s]"
          }
        },
        "41d80e6c1ab748d6b60aafb9b583b45b": {
          "model_module": "@jupyter-widgets/controls",
          "model_module_version": "1.5.0",
          "model_name": "HTMLModel",
          "state": {
            "_dom_classes": [],
            "_model_module": "@jupyter-widgets/controls",
            "_model_module_version": "1.5.0",
            "_model_name": "HTMLModel",
            "_view_count": null,
            "_view_module": "@jupyter-widgets/controls",
            "_view_module_version": "1.5.0",
            "_view_name": "HTMLView",
            "description": "",
            "description_tooltip": null,
            "layout": "IPY_MODEL_b2af39d0991b40c4823e3fc3a8935d44",
            "placeholder": "​",
            "style": "IPY_MODEL_09e1b3c24db84b94aea419bd5c003a46",
            "value": " 7/7 [00:00&lt;00:00, 24.99ba/s]"
          }
        },
        "48945a058ab4418388d41595f5de622e": {
          "model_module": "@jupyter-widgets/controls",
          "model_module_version": "1.5.0",
          "model_name": "FloatProgressModel",
          "state": {
            "_dom_classes": [],
            "_model_module": "@jupyter-widgets/controls",
            "_model_module_version": "1.5.0",
            "_model_name": "FloatProgressModel",
            "_view_count": null,
            "_view_module": "@jupyter-widgets/controls",
            "_view_module_version": "1.5.0",
            "_view_name": "ProgressView",
            "bar_style": "success",
            "description": "",
            "description_tooltip": null,
            "layout": "IPY_MODEL_b94b990d00784aed9c43efffa3fa0bb6",
            "max": 10753100,
            "min": 0,
            "orientation": "horizontal",
            "style": "IPY_MODEL_d401d8fdac2d48678004fef297b43fca",
            "value": 10753100
          }
        },
        "5ad95c08c6b84c4ba1c60bf5e2f670c5": {
          "model_module": "@jupyter-widgets/controls",
          "model_module_version": "1.5.0",
          "model_name": "HTMLModel",
          "state": {
            "_dom_classes": [],
            "_model_module": "@jupyter-widgets/controls",
            "_model_module_version": "1.5.0",
            "_model_name": "HTMLModel",
            "_view_count": null,
            "_view_module": "@jupyter-widgets/controls",
            "_view_module_version": "1.5.0",
            "_view_name": "HTMLView",
            "description": "",
            "description_tooltip": null,
            "layout": "IPY_MODEL_ea6cc80c60994124bab3fc4968eb6bff",
            "placeholder": "​",
            "style": "IPY_MODEL_6f365dbeffd54698938c8382356edca1",
            "value": "Creating CSV from Arrow format: 100%"
          }
        },
        "5c9fadbc34a74cf99fff0f00504f203f": {
          "model_module": "@jupyter-widgets/base",
          "model_module_version": "1.2.0",
          "model_name": "LayoutModel",
          "state": {
            "_model_module": "@jupyter-widgets/base",
            "_model_module_version": "1.2.0",
            "_model_name": "LayoutModel",
            "_view_count": null,
            "_view_module": "@jupyter-widgets/base",
            "_view_module_version": "1.2.0",
            "_view_name": "LayoutView",
            "align_content": null,
            "align_items": null,
            "align_self": null,
            "border": null,
            "bottom": null,
            "display": null,
            "flex": null,
            "flex_flow": null,
            "grid_area": null,
            "grid_auto_columns": null,
            "grid_auto_flow": null,
            "grid_auto_rows": null,
            "grid_column": null,
            "grid_gap": null,
            "grid_row": null,
            "grid_template_areas": null,
            "grid_template_columns": null,
            "grid_template_rows": null,
            "height": null,
            "justify_content": null,
            "justify_items": null,
            "left": null,
            "margin": null,
            "max_height": null,
            "max_width": null,
            "min_height": null,
            "min_width": null,
            "object_fit": null,
            "object_position": null,
            "order": null,
            "overflow": null,
            "overflow_x": null,
            "overflow_y": null,
            "padding": null,
            "right": null,
            "top": null,
            "visibility": null,
            "width": null
          }
        },
        "5ddce24ef71e4fc196ba4f296c7228f8": {
          "model_module": "@jupyter-widgets/controls",
          "model_module_version": "1.5.0",
          "model_name": "HTMLModel",
          "state": {
            "_dom_classes": [],
            "_model_module": "@jupyter-widgets/controls",
            "_model_module_version": "1.5.0",
            "_model_name": "HTMLModel",
            "_view_count": null,
            "_view_module": "@jupyter-widgets/controls",
            "_view_module_version": "1.5.0",
            "_view_name": "HTMLView",
            "description": "",
            "description_tooltip": null,
            "layout": "IPY_MODEL_eaad473580814053929fc95402b99587",
            "placeholder": "​",
            "style": "IPY_MODEL_92eabe663add404ab9d2228086aac7c4",
            "value": "Generating train split: 100%"
          }
        },
        "5ebf6b57907f49aeb9c1021f7bfc8337": {
          "model_module": "@jupyter-widgets/controls",
          "model_module_version": "1.5.0",
          "model_name": "ProgressStyleModel",
          "state": {
            "_model_module": "@jupyter-widgets/controls",
            "_model_module_version": "1.5.0",
            "_model_name": "ProgressStyleModel",
            "_view_count": null,
            "_view_module": "@jupyter-widgets/base",
            "_view_module_version": "1.2.0",
            "_view_name": "StyleView",
            "bar_color": null,
            "description_width": ""
          }
        },
        "6668061d793944aeb7b46f582b9b087a": {
          "model_module": "@jupyter-widgets/base",
          "model_module_version": "1.2.0",
          "model_name": "LayoutModel",
          "state": {
            "_model_module": "@jupyter-widgets/base",
            "_model_module_version": "1.2.0",
            "_model_name": "LayoutModel",
            "_view_count": null,
            "_view_module": "@jupyter-widgets/base",
            "_view_module_version": "1.2.0",
            "_view_name": "LayoutView",
            "align_content": null,
            "align_items": null,
            "align_self": null,
            "border": null,
            "bottom": null,
            "display": null,
            "flex": null,
            "flex_flow": null,
            "grid_area": null,
            "grid_auto_columns": null,
            "grid_auto_flow": null,
            "grid_auto_rows": null,
            "grid_column": null,
            "grid_gap": null,
            "grid_row": null,
            "grid_template_areas": null,
            "grid_template_columns": null,
            "grid_template_rows": null,
            "height": null,
            "justify_content": null,
            "justify_items": null,
            "left": null,
            "margin": null,
            "max_height": null,
            "max_width": null,
            "min_height": null,
            "min_width": null,
            "object_fit": null,
            "object_position": null,
            "order": null,
            "overflow": null,
            "overflow_x": null,
            "overflow_y": null,
            "padding": null,
            "right": null,
            "top": null,
            "visibility": null,
            "width": null
          }
        },
        "69ec195fda2e49b888532df04a24ade4": {
          "model_module": "@jupyter-widgets/controls",
          "model_module_version": "1.5.0",
          "model_name": "FloatProgressModel",
          "state": {
            "_dom_classes": [],
            "_model_module": "@jupyter-widgets/controls",
            "_model_module_version": "1.5.0",
            "_model_name": "FloatProgressModel",
            "_view_count": null,
            "_view_module": "@jupyter-widgets/controls",
            "_view_module_version": "1.5.0",
            "_view_name": "ProgressView",
            "bar_style": "success",
            "description": "",
            "description_tooltip": null,
            "layout": "IPY_MODEL_5c9fadbc34a74cf99fff0f00504f203f",
            "max": 7,
            "min": 0,
            "orientation": "horizontal",
            "style": "IPY_MODEL_5ebf6b57907f49aeb9c1021f7bfc8337",
            "value": 7
          }
        },
        "6f365dbeffd54698938c8382356edca1": {
          "model_module": "@jupyter-widgets/controls",
          "model_module_version": "1.5.0",
          "model_name": "DescriptionStyleModel",
          "state": {
            "_model_module": "@jupyter-widgets/controls",
            "_model_module_version": "1.5.0",
            "_model_name": "DescriptionStyleModel",
            "_view_count": null,
            "_view_module": "@jupyter-widgets/base",
            "_view_module_version": "1.2.0",
            "_view_name": "StyleView",
            "description_width": ""
          }
        },
        "7873862253ca4905a4fc965aa7f02df5": {
          "model_module": "@jupyter-widgets/controls",
          "model_module_version": "1.5.0",
          "model_name": "HTMLModel",
          "state": {
            "_dom_classes": [],
            "_model_module": "@jupyter-widgets/controls",
            "_model_module_version": "1.5.0",
            "_model_name": "HTMLModel",
            "_view_count": null,
            "_view_module": "@jupyter-widgets/controls",
            "_view_module_version": "1.5.0",
            "_view_name": "HTMLView",
            "description": "",
            "description_tooltip": null,
            "layout": "IPY_MODEL_b954250cf5cb4c7497c4a94a2dcb3bdf",
            "placeholder": "​",
            "style": "IPY_MODEL_9c3db47746b7478ab0701fcbc53c590f",
            "value": "Downloading data: 100%"
          }
        },
        "82a402c1f489475594ac82924433c3ae": {
          "model_module": "@jupyter-widgets/controls",
          "model_module_version": "1.5.0",
          "model_name": "HBoxModel",
          "state": {
            "_dom_classes": [],
            "_model_module": "@jupyter-widgets/controls",
            "_model_module_version": "1.5.0",
            "_model_name": "HBoxModel",
            "_view_count": null,
            "_view_module": "@jupyter-widgets/controls",
            "_view_module_version": "1.5.0",
            "_view_name": "HBoxView",
            "box_style": "",
            "children": [
              "IPY_MODEL_d8bd4a85ebb04b40b80a17cc212029c1",
              "IPY_MODEL_2f2aa4d4264e4f14bb8462b02b2b005e",
              "IPY_MODEL_86fdf82a72864cc492c63e24fd28dc40"
            ],
            "layout": "IPY_MODEL_28532ad9ba2a433abe212bc022735afe"
          }
        },
        "86fdf82a72864cc492c63e24fd28dc40": {
          "model_module": "@jupyter-widgets/controls",
          "model_module_version": "1.5.0",
          "model_name": "HTMLModel",
          "state": {
            "_dom_classes": [],
            "_model_module": "@jupyter-widgets/controls",
            "_model_module_version": "1.5.0",
            "_model_name": "HTMLModel",
            "_view_count": null,
            "_view_module": "@jupyter-widgets/controls",
            "_view_module_version": "1.5.0",
            "_view_name": "HTMLView",
            "description": "",
            "description_tooltip": null,
            "layout": "IPY_MODEL_6668061d793944aeb7b46f582b9b087a",
            "placeholder": "​",
            "style": "IPY_MODEL_373049533b8e4cba804f0c84c263e2d9",
            "value": " 21.0/21.0 [00:00&lt;00:00, 1.79kB/s]"
          }
        },
        "8ffdad36db5c4a929bae3fa81fe59339": {
          "model_module": "@jupyter-widgets/controls",
          "model_module_version": "1.5.0",
          "model_name": "DescriptionStyleModel",
          "state": {
            "_model_module": "@jupyter-widgets/controls",
            "_model_module_version": "1.5.0",
            "_model_name": "DescriptionStyleModel",
            "_view_count": null,
            "_view_module": "@jupyter-widgets/base",
            "_view_module_version": "1.2.0",
            "_view_name": "StyleView",
            "description_width": ""
          }
        },
        "92eabe663add404ab9d2228086aac7c4": {
          "model_module": "@jupyter-widgets/controls",
          "model_module_version": "1.5.0",
          "model_name": "DescriptionStyleModel",
          "state": {
            "_model_module": "@jupyter-widgets/controls",
            "_model_module_version": "1.5.0",
            "_model_name": "DescriptionStyleModel",
            "_view_count": null,
            "_view_module": "@jupyter-widgets/base",
            "_view_module_version": "1.2.0",
            "_view_name": "StyleView",
            "description_width": ""
          }
        },
        "96732afd30134669b05799672836ed51": {
          "model_module": "@jupyter-widgets/base",
          "model_module_version": "1.2.0",
          "model_name": "LayoutModel",
          "state": {
            "_model_module": "@jupyter-widgets/base",
            "_model_module_version": "1.2.0",
            "_model_name": "LayoutModel",
            "_view_count": null,
            "_view_module": "@jupyter-widgets/base",
            "_view_module_version": "1.2.0",
            "_view_name": "LayoutView",
            "align_content": null,
            "align_items": null,
            "align_self": null,
            "border": null,
            "bottom": null,
            "display": null,
            "flex": null,
            "flex_flow": null,
            "grid_area": null,
            "grid_auto_columns": null,
            "grid_auto_flow": null,
            "grid_auto_rows": null,
            "grid_column": null,
            "grid_gap": null,
            "grid_row": null,
            "grid_template_areas": null,
            "grid_template_columns": null,
            "grid_template_rows": null,
            "height": null,
            "justify_content": null,
            "justify_items": null,
            "left": null,
            "margin": null,
            "max_height": null,
            "max_width": null,
            "min_height": null,
            "min_width": null,
            "object_fit": null,
            "object_position": null,
            "order": null,
            "overflow": null,
            "overflow_x": null,
            "overflow_y": null,
            "padding": null,
            "right": null,
            "top": null,
            "visibility": null,
            "width": null
          }
        },
        "973f9ee8411147b98f5808629aa0767f": {
          "model_module": "@jupyter-widgets/controls",
          "model_module_version": "1.5.0",
          "model_name": "ProgressStyleModel",
          "state": {
            "_model_module": "@jupyter-widgets/controls",
            "_model_module_version": "1.5.0",
            "_model_name": "ProgressStyleModel",
            "_view_count": null,
            "_view_module": "@jupyter-widgets/base",
            "_view_module_version": "1.2.0",
            "_view_name": "StyleView",
            "bar_color": null,
            "description_width": ""
          }
        },
        "9c3db47746b7478ab0701fcbc53c590f": {
          "model_module": "@jupyter-widgets/controls",
          "model_module_version": "1.5.0",
          "model_name": "DescriptionStyleModel",
          "state": {
            "_model_module": "@jupyter-widgets/controls",
            "_model_module_version": "1.5.0",
            "_model_name": "DescriptionStyleModel",
            "_view_count": null,
            "_view_module": "@jupyter-widgets/base",
            "_view_module_version": "1.2.0",
            "_view_name": "StyleView",
            "description_width": ""
          }
        },
        "a77d4e652aa342d8b75bacf100d65f81": {
          "model_module": "@jupyter-widgets/base",
          "model_module_version": "1.2.0",
          "model_name": "LayoutModel",
          "state": {
            "_model_module": "@jupyter-widgets/base",
            "_model_module_version": "1.2.0",
            "_model_name": "LayoutModel",
            "_view_count": null,
            "_view_module": "@jupyter-widgets/base",
            "_view_module_version": "1.2.0",
            "_view_name": "LayoutView",
            "align_content": null,
            "align_items": null,
            "align_self": null,
            "border": null,
            "bottom": null,
            "display": null,
            "flex": null,
            "flex_flow": null,
            "grid_area": null,
            "grid_auto_columns": null,
            "grid_auto_flow": null,
            "grid_auto_rows": null,
            "grid_column": null,
            "grid_gap": null,
            "grid_row": null,
            "grid_template_areas": null,
            "grid_template_columns": null,
            "grid_template_rows": null,
            "height": null,
            "justify_content": null,
            "justify_items": null,
            "left": null,
            "margin": null,
            "max_height": null,
            "max_width": null,
            "min_height": null,
            "min_width": null,
            "object_fit": null,
            "object_position": null,
            "order": null,
            "overflow": null,
            "overflow_x": null,
            "overflow_y": null,
            "padding": null,
            "right": null,
            "top": null,
            "visibility": null,
            "width": null
          }
        },
        "ad8139e8927d4605822555f8c07ba479": {
          "model_module": "@jupyter-widgets/controls",
          "model_module_version": "1.5.0",
          "model_name": "HBoxModel",
          "state": {
            "_dom_classes": [],
            "_model_module": "@jupyter-widgets/controls",
            "_model_module_version": "1.5.0",
            "_model_name": "HBoxModel",
            "_view_count": null,
            "_view_module": "@jupyter-widgets/controls",
            "_view_module_version": "1.5.0",
            "_view_name": "HBoxView",
            "box_style": "",
            "children": [
              "IPY_MODEL_5ad95c08c6b84c4ba1c60bf5e2f670c5",
              "IPY_MODEL_69ec195fda2e49b888532df04a24ade4",
              "IPY_MODEL_41d80e6c1ab748d6b60aafb9b583b45b"
            ],
            "layout": "IPY_MODEL_96732afd30134669b05799672836ed51"
          }
        },
        "b2af39d0991b40c4823e3fc3a8935d44": {
          "model_module": "@jupyter-widgets/base",
          "model_module_version": "1.2.0",
          "model_name": "LayoutModel",
          "state": {
            "_model_module": "@jupyter-widgets/base",
            "_model_module_version": "1.2.0",
            "_model_name": "LayoutModel",
            "_view_count": null,
            "_view_module": "@jupyter-widgets/base",
            "_view_module_version": "1.2.0",
            "_view_name": "LayoutView",
            "align_content": null,
            "align_items": null,
            "align_self": null,
            "border": null,
            "bottom": null,
            "display": null,
            "flex": null,
            "flex_flow": null,
            "grid_area": null,
            "grid_auto_columns": null,
            "grid_auto_flow": null,
            "grid_auto_rows": null,
            "grid_column": null,
            "grid_gap": null,
            "grid_row": null,
            "grid_template_areas": null,
            "grid_template_columns": null,
            "grid_template_rows": null,
            "height": null,
            "justify_content": null,
            "justify_items": null,
            "left": null,
            "margin": null,
            "max_height": null,
            "max_width": null,
            "min_height": null,
            "min_width": null,
            "object_fit": null,
            "object_position": null,
            "order": null,
            "overflow": null,
            "overflow_x": null,
            "overflow_y": null,
            "padding": null,
            "right": null,
            "top": null,
            "visibility": null,
            "width": null
          }
        },
        "b94b990d00784aed9c43efffa3fa0bb6": {
          "model_module": "@jupyter-widgets/base",
          "model_module_version": "1.2.0",
          "model_name": "LayoutModel",
          "state": {
            "_model_module": "@jupyter-widgets/base",
            "_model_module_version": "1.2.0",
            "_model_name": "LayoutModel",
            "_view_count": null,
            "_view_module": "@jupyter-widgets/base",
            "_view_module_version": "1.2.0",
            "_view_name": "LayoutView",
            "align_content": null,
            "align_items": null,
            "align_self": null,
            "border": null,
            "bottom": null,
            "display": null,
            "flex": null,
            "flex_flow": null,
            "grid_area": null,
            "grid_auto_columns": null,
            "grid_auto_flow": null,
            "grid_auto_rows": null,
            "grid_column": null,
            "grid_gap": null,
            "grid_row": null,
            "grid_template_areas": null,
            "grid_template_columns": null,
            "grid_template_rows": null,
            "height": null,
            "justify_content": null,
            "justify_items": null,
            "left": null,
            "margin": null,
            "max_height": null,
            "max_width": null,
            "min_height": null,
            "min_width": null,
            "object_fit": null,
            "object_position": null,
            "order": null,
            "overflow": null,
            "overflow_x": null,
            "overflow_y": null,
            "padding": null,
            "right": null,
            "top": null,
            "visibility": null,
            "width": null
          }
        },
        "b954250cf5cb4c7497c4a94a2dcb3bdf": {
          "model_module": "@jupyter-widgets/base",
          "model_module_version": "1.2.0",
          "model_name": "LayoutModel",
          "state": {
            "_model_module": "@jupyter-widgets/base",
            "_model_module_version": "1.2.0",
            "_model_name": "LayoutModel",
            "_view_count": null,
            "_view_module": "@jupyter-widgets/base",
            "_view_module_version": "1.2.0",
            "_view_name": "LayoutView",
            "align_content": null,
            "align_items": null,
            "align_self": null,
            "border": null,
            "bottom": null,
            "display": null,
            "flex": null,
            "flex_flow": null,
            "grid_area": null,
            "grid_auto_columns": null,
            "grid_auto_flow": null,
            "grid_auto_rows": null,
            "grid_column": null,
            "grid_gap": null,
            "grid_row": null,
            "grid_template_areas": null,
            "grid_template_columns": null,
            "grid_template_rows": null,
            "height": null,
            "justify_content": null,
            "justify_items": null,
            "left": null,
            "margin": null,
            "max_height": null,
            "max_width": null,
            "min_height": null,
            "min_width": null,
            "object_fit": null,
            "object_position": null,
            "order": null,
            "overflow": null,
            "overflow_x": null,
            "overflow_y": null,
            "padding": null,
            "right": null,
            "top": null,
            "visibility": null,
            "width": null
          }
        },
        "bb3b280b3b6945ea8fc50ad315abfcc4": {
          "model_module": "@jupyter-widgets/base",
          "model_module_version": "1.2.0",
          "model_name": "LayoutModel",
          "state": {
            "_model_module": "@jupyter-widgets/base",
            "_model_module_version": "1.2.0",
            "_model_name": "LayoutModel",
            "_view_count": null,
            "_view_module": "@jupyter-widgets/base",
            "_view_module_version": "1.2.0",
            "_view_name": "LayoutView",
            "align_content": null,
            "align_items": null,
            "align_self": null,
            "border": null,
            "bottom": null,
            "display": null,
            "flex": null,
            "flex_flow": null,
            "grid_area": null,
            "grid_auto_columns": null,
            "grid_auto_flow": null,
            "grid_auto_rows": null,
            "grid_column": null,
            "grid_gap": null,
            "grid_row": null,
            "grid_template_areas": null,
            "grid_template_columns": null,
            "grid_template_rows": null,
            "height": null,
            "justify_content": null,
            "justify_items": null,
            "left": null,
            "margin": null,
            "max_height": null,
            "max_width": null,
            "min_height": null,
            "min_width": null,
            "object_fit": null,
            "object_position": null,
            "order": null,
            "overflow": null,
            "overflow_x": null,
            "overflow_y": null,
            "padding": null,
            "right": null,
            "top": null,
            "visibility": null,
            "width": null
          }
        },
        "d401d8fdac2d48678004fef297b43fca": {
          "model_module": "@jupyter-widgets/controls",
          "model_module_version": "1.5.0",
          "model_name": "ProgressStyleModel",
          "state": {
            "_model_module": "@jupyter-widgets/controls",
            "_model_module_version": "1.5.0",
            "_model_name": "ProgressStyleModel",
            "_view_count": null,
            "_view_module": "@jupyter-widgets/base",
            "_view_module_version": "1.2.0",
            "_view_name": "StyleView",
            "bar_color": null,
            "description_width": ""
          }
        },
        "d8bd4a85ebb04b40b80a17cc212029c1": {
          "model_module": "@jupyter-widgets/controls",
          "model_module_version": "1.5.0",
          "model_name": "HTMLModel",
          "state": {
            "_dom_classes": [],
            "_model_module": "@jupyter-widgets/controls",
            "_model_module_version": "1.5.0",
            "_model_name": "HTMLModel",
            "_view_count": null,
            "_view_module": "@jupyter-widgets/controls",
            "_view_module_version": "1.5.0",
            "_view_name": "HTMLView",
            "description": "",
            "description_tooltip": null,
            "layout": "IPY_MODEL_1bc39bc0ffdc4524ab03abb151885ee9",
            "placeholder": "​",
            "style": "IPY_MODEL_8ffdad36db5c4a929bae3fa81fe59339",
            "value": "Downloading readme: 100%"
          }
        },
        "e6c5ac23ac26449c827161abc06bc007": {
          "model_module": "@jupyter-widgets/controls",
          "model_module_version": "1.5.0",
          "model_name": "HBoxModel",
          "state": {
            "_dom_classes": [],
            "_model_module": "@jupyter-widgets/controls",
            "_model_module_version": "1.5.0",
            "_model_name": "HBoxModel",
            "_view_count": null,
            "_view_module": "@jupyter-widgets/controls",
            "_view_module_version": "1.5.0",
            "_view_name": "HBoxView",
            "box_style": "",
            "children": [
              "IPY_MODEL_5ddce24ef71e4fc196ba4f296c7228f8",
              "IPY_MODEL_2fbb25fe40954b2abad47e45a9aadea2",
              "IPY_MODEL_0ffca480327b434b8b2724168de27bf4"
            ],
            "layout": "IPY_MODEL_166fe1537e364e74bc640450d0dfe2fc"
          }
        },
        "ea6cc80c60994124bab3fc4968eb6bff": {
          "model_module": "@jupyter-widgets/base",
          "model_module_version": "1.2.0",
          "model_name": "LayoutModel",
          "state": {
            "_model_module": "@jupyter-widgets/base",
            "_model_module_version": "1.2.0",
            "_model_name": "LayoutModel",
            "_view_count": null,
            "_view_module": "@jupyter-widgets/base",
            "_view_module_version": "1.2.0",
            "_view_name": "LayoutView",
            "align_content": null,
            "align_items": null,
            "align_self": null,
            "border": null,
            "bottom": null,
            "display": null,
            "flex": null,
            "flex_flow": null,
            "grid_area": null,
            "grid_auto_columns": null,
            "grid_auto_flow": null,
            "grid_auto_rows": null,
            "grid_column": null,
            "grid_gap": null,
            "grid_row": null,
            "grid_template_areas": null,
            "grid_template_columns": null,
            "grid_template_rows": null,
            "height": null,
            "justify_content": null,
            "justify_items": null,
            "left": null,
            "margin": null,
            "max_height": null,
            "max_width": null,
            "min_height": null,
            "min_width": null,
            "object_fit": null,
            "object_position": null,
            "order": null,
            "overflow": null,
            "overflow_x": null,
            "overflow_y": null,
            "padding": null,
            "right": null,
            "top": null,
            "visibility": null,
            "width": null
          }
        },
        "eaad473580814053929fc95402b99587": {
          "model_module": "@jupyter-widgets/base",
          "model_module_version": "1.2.0",
          "model_name": "LayoutModel",
          "state": {
            "_model_module": "@jupyter-widgets/base",
            "_model_module_version": "1.2.0",
            "_model_name": "LayoutModel",
            "_view_count": null,
            "_view_module": "@jupyter-widgets/base",
            "_view_module_version": "1.2.0",
            "_view_name": "LayoutView",
            "align_content": null,
            "align_items": null,
            "align_self": null,
            "border": null,
            "bottom": null,
            "display": null,
            "flex": null,
            "flex_flow": null,
            "grid_area": null,
            "grid_auto_columns": null,
            "grid_auto_flow": null,
            "grid_auto_rows": null,
            "grid_column": null,
            "grid_gap": null,
            "grid_row": null,
            "grid_template_areas": null,
            "grid_template_columns": null,
            "grid_template_rows": null,
            "height": null,
            "justify_content": null,
            "justify_items": null,
            "left": null,
            "margin": null,
            "max_height": null,
            "max_width": null,
            "min_height": null,
            "min_width": null,
            "object_fit": null,
            "object_position": null,
            "order": null,
            "overflow": null,
            "overflow_x": null,
            "overflow_y": null,
            "padding": null,
            "right": null,
            "top": null,
            "visibility": null,
            "width": null
          }
        },
        "edc451b300b844e3849c1fed1284d0d2": {
          "model_module": "@jupyter-widgets/controls",
          "model_module_version": "1.5.0",
          "model_name": "ProgressStyleModel",
          "state": {
            "_model_module": "@jupyter-widgets/controls",
            "_model_module_version": "1.5.0",
            "_model_name": "ProgressStyleModel",
            "_view_count": null,
            "_view_module": "@jupyter-widgets/base",
            "_view_module_version": "1.2.0",
            "_view_name": "StyleView",
            "bar_color": null,
            "description_width": ""
          }
        }
      }
    }
  },
  "nbformat": 4,
  "nbformat_minor": 0
}
